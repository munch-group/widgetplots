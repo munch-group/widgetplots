{
 "cells": [
  {
   "cell_type": "code",
   "execution_count": 10,
   "id": "c5dc56cb-0785-4150-af38-06c9ab750a37",
   "metadata": {},
   "outputs": [],
   "source": [
    "import sys\n",
    "import pandas as pd\n",
    "import numpy as np\n",
    "import seaborn as sns\n",
    "\n",
    "from widgetplots import menu_plot\n",
    "%config InlineBackend.figure_format = 'retina'"
   ]
  },
  {
   "cell_type": "code",
   "execution_count": 223,
   "id": "0e4e860f-57ec-43b0-9286-dbe401617c9d",
   "metadata": {},
   "outputs": [],
   "source": [
    "import sys\n",
    "import pandas as pd\n",
    "import numpy as np\n",
    "import ipywidgets \n",
    "import seaborn as sns\n",
    "import matplotlib.pyplot as plt \n",
    "%config InlineBackend.figure_format = 'retina'"
   ]
  },
  {
   "cell_type": "markdown",
   "id": "a6c0e75f-3b0d-4357-aaad-9096ec674b97",
   "metadata": {},
   "source": [
    "## Dummy data"
   ]
  },
  {
   "cell_type": "code",
   "execution_count": 4,
   "id": "0c34d11f-24e9-4b6d-902f-f329c6dc22f8",
   "metadata": {},
   "outputs": [
    {
     "data": {
      "text/html": [
       "<div>\n",
       "<style scoped>\n",
       "    .dataframe tbody tr th:only-of-type {\n",
       "        vertical-align: middle;\n",
       "    }\n",
       "\n",
       "    .dataframe tbody tr th {\n",
       "        vertical-align: top;\n",
       "    }\n",
       "\n",
       "    .dataframe thead th {\n",
       "        text-align: right;\n",
       "    }\n",
       "</style>\n",
       "<table border=\"1\" class=\"dataframe\">\n",
       "  <thead>\n",
       "    <tr style=\"text-align: right;\">\n",
       "      <th></th>\n",
       "      <th>math score</th>\n",
       "      <th>reading score</th>\n",
       "      <th>writing score</th>\n",
       "      <th>gender</th>\n",
       "      <th>race/ethnicity</th>\n",
       "      <th>lunch</th>\n",
       "      <th>parental education</th>\n",
       "      <th>preparation course</th>\n",
       "    </tr>\n",
       "  </thead>\n",
       "  <tbody>\n",
       "    <tr>\n",
       "      <th>0</th>\n",
       "      <td>3.648794</td>\n",
       "      <td>7.544339</td>\n",
       "      <td>2.589042</td>\n",
       "      <td>male</td>\n",
       "      <td>group B</td>\n",
       "      <td>free</td>\n",
       "      <td>highschool</td>\n",
       "      <td>none</td>\n",
       "    </tr>\n",
       "    <tr>\n",
       "      <th>1</th>\n",
       "      <td>6.580344</td>\n",
       "      <td>10.534794</td>\n",
       "      <td>3.087276</td>\n",
       "      <td>male</td>\n",
       "      <td>group C</td>\n",
       "      <td>free</td>\n",
       "      <td>master</td>\n",
       "      <td>none</td>\n",
       "    </tr>\n",
       "    <tr>\n",
       "      <th>2</th>\n",
       "      <td>5.479877</td>\n",
       "      <td>10.443991</td>\n",
       "      <td>4.772000</td>\n",
       "      <td>female</td>\n",
       "      <td>group B</td>\n",
       "      <td>free</td>\n",
       "      <td>bachelor</td>\n",
       "      <td>none</td>\n",
       "    </tr>\n",
       "    <tr>\n",
       "      <th>3</th>\n",
       "      <td>5.645676</td>\n",
       "      <td>12.214279</td>\n",
       "      <td>1.251577</td>\n",
       "      <td>female</td>\n",
       "      <td>group D</td>\n",
       "      <td>free</td>\n",
       "      <td>master</td>\n",
       "      <td>completed</td>\n",
       "    </tr>\n",
       "    <tr>\n",
       "      <th>4</th>\n",
       "      <td>3.768076</td>\n",
       "      <td>9.548172</td>\n",
       "      <td>-2.040344</td>\n",
       "      <td>male</td>\n",
       "      <td>group C</td>\n",
       "      <td>free</td>\n",
       "      <td>bachelor</td>\n",
       "      <td>completed</td>\n",
       "    </tr>\n",
       "  </tbody>\n",
       "</table>\n",
       "</div>"
      ],
      "text/plain": [
       "   math score  reading score  writing score  gender race/ethnicity lunch  \\\n",
       "0    3.648794       7.544339       2.589042    male        group B  free   \n",
       "1    6.580344      10.534794       3.087276    male        group C  free   \n",
       "2    5.479877      10.443991       4.772000  female        group B  free   \n",
       "3    5.645676      12.214279       1.251577  female        group D  free   \n",
       "4    3.768076       9.548172      -2.040344    male        group C  free   \n",
       "\n",
       "  parental education preparation course  \n",
       "0         highschool               none  \n",
       "1             master               none  \n",
       "2           bachelor               none  \n",
       "3             master          completed  \n",
       "4           bachelor          completed  "
      ]
     },
     "execution_count": 4,
     "metadata": {},
     "output_type": "execute_result"
    }
   ],
   "source": [
    "cov = np.array([[6, 3], [3, 3.5]])\n",
    "multinorm = np.random.multivariate_normal([5, 10], cov, size=100)\n",
    "df = pd.DataFrame({'math score': multinorm[:, 0],\n",
    "                       'reading score': multinorm[:, 1], \n",
    "                       'writing score': np.random.normal(2, 2, 100),\n",
    "                   'gender': np.random.choice(['male', 'female'], size=100),\n",
    "                   'race/ethnicity': np.random.choice(['group A', 'group B', 'group C', 'group D', 'group E'], size=100),\n",
    "                    'lunch': np.random.choice(['free', 'standard'], size=100),\n",
    "                    'parental education': np.random.choice(['highschool', 'bachelor', 'master'], size=100),\n",
    "                    'preparation course': np.random.choice(['completed', 'none'], size=100)\n",
    "                  })\n",
    "df.head()"
   ]
  },
  {
   "cell_type": "code",
   "execution_count": 275,
   "id": "6c71a529-1c8f-4aec-8125-44ae194b80a9",
   "metadata": {},
   "outputs": [
    {
     "data": {
      "application/vnd.jupyter.widget-view+json": {
       "model_id": "1655715544534ad6a4a7fc637975e1f0",
       "version_major": 2,
       "version_minor": 0
      },
      "text/plain": [
       "HBox(children=(Dropdown(description='X variable:', options=('gender', 'race/ethnicity', 'lunch', 'parental edu…"
      ]
     },
     "metadata": {},
     "output_type": "display_data"
    },
    {
     "data": {
      "application/vnd.jupyter.widget-view+json": {
       "model_id": "3aeb42481df44943a9c48209eb0895f5",
       "version_major": 2,
       "version_minor": 0
      },
      "text/plain": [
       "Output()"
      ]
     },
     "metadata": {},
     "output_type": "display_data"
    }
   ],
   "source": [
    "def scatter(x,y,hue):\n",
    "    plt.close('all')\n",
    "    fig = plt.figure(figsize=(8,4))\n",
    "    sns.scatterplot(data=df,x=x,y=y,hue=hue)\n",
    "    plt.title('Scatterplot of ' +x+' versus '+ y)\n",
    "    plt.show()\n",
    "    \n",
    "drop_down_x = ipywidgets.Dropdown(options=list(df.drop(['math score','reading score', 'writing score'],axis=1).columns),\n",
    "                                value=list(df.drop(['math score','reading score', 'writing score'],axis=1).columns)[0],\n",
    "                                description='X variable:',\n",
    "                                disabled=False)\n",
    "\n",
    "drop_down_y = ipywidgets.Dropdown(options=list(['math score','reading score', 'writing score']),\n",
    "                                value=list(['math score','reading score', 'writing score'])[0],\n",
    "                                description='Y variable:',\n",
    "                                disabled=False)\n",
    "\n",
    "drop_down_hue= ipywidgets.Dropdown(options=list(df.drop(['math score','reading score', 'writing score'],axis=1).columns),\n",
    "                                value=list(df.drop(['math score','reading score', 'writing score'],axis=1).columns)[0],\n",
    "                                description='Hue:',\n",
    "                                disabled=False)\n",
    "\n",
    "in3 = ipywidgets.HBox([drop_down_x,drop_down_y,drop_down_hue])\n",
    "out3 = ipywidgets.interactive_output(scatter,\n",
    "                                     {'x' : drop_down_x,\n",
    "                                     'y': drop_down_y,\n",
    "                                     'hue':drop_down_hue})\n",
    "display(in3, out3)"
   ]
  },
  {
   "cell_type": "code",
   "execution_count": 276,
   "id": "9097be18-b5e9-43a4-98e7-10ba8f36cd3c",
   "metadata": {},
   "outputs": [
    {
     "data": {
      "application/vnd.jupyter.widget-view+json": {
       "model_id": "0c7ef704419e488cb7e277df9fb56b26",
       "version_major": 2,
       "version_minor": 0
      },
      "text/plain": [
       "HBox(children=(Dropdown(description='X variable:', options=('gender', 'race/ethnicity', 'lunch', 'parental edu…"
      ]
     },
     "metadata": {},
     "output_type": "display_data"
    },
    {
     "data": {
      "application/vnd.jupyter.widget-view+json": {
       "model_id": "279e67617319426aae605d45bde96519",
       "version_major": 2,
       "version_minor": 0
      },
      "text/plain": [
       "Output()"
      ]
     },
     "metadata": {},
     "output_type": "display_data"
    }
   ],
   "source": [
    "def boxplot(selected_x, selected_y):\n",
    "    plt.close('all')\n",
    "    fig = plt.figure(figsize=(8,4))\n",
    "    sns.boxplot(x=df[selected_x],y=df[selected_y])\n",
    "    plt.title(f'Boxplot of {selected_y} for {selected_x}')\n",
    "    plt.show()\n",
    "    \n",
    "drop_down_x = ipywidgets.Dropdown(options=list(df.drop(['math score','reading score', 'writing score'],axis=1).columns),\n",
    "                                value=list(df.drop(['math score','reading score', 'writing score'],axis=1).columns)[0],\n",
    "                                description='X variable:',\n",
    "                                disabled=False)\n",
    "\n",
    "drop_down_y = ipywidgets.Dropdown(options=list(['math score','reading score', 'writing score']),\n",
    "                                value=list(['math score','reading score', 'writing score'])[0],\n",
    "                                description='Y variable:',\n",
    "                                disabled=False)\n",
    "\n",
    "in1 = ipywidgets.HBox([drop_down_x, drop_down_y])\n",
    "out1 = ipywidgets.interactive_output(boxplot,\n",
    "                                     {'selected_x' : drop_down_x, 'selected_y' : drop_down_y})\n",
    "display(in1, out1)"
   ]
  },
  {
   "cell_type": "markdown",
   "id": "a770d4f5-5d4a-4d4d-9d04-b5cafcccb753",
   "metadata": {},
   "source": [
    "## Generic plot with menus"
   ]
  },
  {
   "cell_type": "code",
   "execution_count": 308,
   "id": "b0eeae43-32dc-4785-b9fd-0e3e6eb1c63f",
   "metadata": {},
   "outputs": [],
   "source": [
    "graphics = [\n",
    "    sns.boxplot, \n",
    "    sns.scatterplot, \n",
    "    sns.violinplot,\n",
    "    sns.boxenplot, \n",
    "    sns.swarmplot,\n",
    "    sns.stripplot,\n",
    "    sns.kdeplot,\n",
    "    sns.barplot,\n",
    "]\n",
    "\n",
    "def interactive_plot(df, defaults, graphics=graphics, strings_as_cats=False, palette=\"colorblind\"):\n",
    "    def plot(selected_x, selected_y, selected_hue=None, selected_plot=graphics[0]):\n",
    "        plt.close('all')\n",
    "        fig, ax = plt.subplots(1, 1, figsize=(8,4))\n",
    "        sns.set_style('ticks')\n",
    "        kwargs = dict(x=df[selected_x], y=df[selected_y])\n",
    "        if selected_hue in df:\n",
    "            kwargs['hue'] = df[selected_hue]\n",
    "            kwargs['palette'] = palette\n",
    "        try:\n",
    "            selected_plot(**kwargs, ax=ax)\n",
    "        except TypeError as e:\n",
    "            print(f\"{str(e).split(',')[0]}. That does not compatible with {selected_plot.__name__}\", file=sys.stderr)\n",
    "            plt.close('all')            \n",
    "            return\n",
    "        plt.title(f'{selected_plot.__name__.capitalize()} of {selected_y} for {selected_x}')\n",
    "        handles, labels = ax.get_legend_handles_labels()\n",
    "        if labels:\n",
    "            ax.legend(loc='center left', bbox_to_anchor=(1, 0.5))\n",
    "        sns.despine()\n",
    "        plt.show()\n",
    "    \n",
    "    categorical_col_names = df.columns[(df.map(type) == str).all(0)].to_list()\n",
    "\n",
    "    dropdowns = {}\n",
    "    if 'plot' in defaults:\n",
    "        plot_options = [(g.__name__, g) for g in graphics]\n",
    "        names, funs = zip(*plot_options)\n",
    "        i = names.index(defaults['plot'])\n",
    "        options = plot_options[i:i+1] + plot_options[:i] + plot_options[i+1:] \n",
    "        drop_down_plot = ipywidgets.Dropdown(options=options, description='Plot:', disabled=False)\n",
    "        dropdowns['selected_plot'] = drop_down_plot\n",
    "    if 'x' in defaults:\n",
    "        x_options = df.columns.to_list()\n",
    "        drop_down_x = ipywidgets.Dropdown(options=x_options, value=defaults['x'], description='X variable:', disabled=False)\n",
    "        dropdowns['selected_x'] = drop_down_x\n",
    "    if 'y' in defaults:\n",
    "        if strings_as_cats:\n",
    "            y_options = df.drop(categorical_col_names,axis=1).columns\n",
    "        else:\n",
    "            y_options = df.columns.to_list()\n",
    "        drop_down_y = ipywidgets.Dropdown(options=y_options, value=defaults['y'], description='Y variable:', disabled=False)\n",
    "        dropdowns['selected_y'] = drop_down_y\n",
    "    if 'hue' in defaults:\n",
    "        if strings_as_cats:\n",
    "            hue_options = df.columns[(df.map(type) == str).all(0)]\n",
    "        else:\n",
    "            hue_options = df.columns.to_list()\n",
    "        drop_down_hue= ipywidgets.Dropdown(options=hue_options, value=defaults['hue'], description='Hue:', disabled=False)\n",
    "        dropdowns['selected_hue'] = drop_down_hue\n",
    "\n",
    "    display(ipywidgets.HBox(list(dropdowns.values())),\n",
    "            ipywidgets.interactive_output(plot, dropdowns))"
   ]
  },
  {
   "cell_type": "markdown",
   "id": "1d2eae56-5a73-4290-b41d-4f0bcc19e20e",
   "metadata": {},
   "source": [
    "## Examples"
   ]
  },
  {
   "cell_type": "code",
   "execution_count": 11,
   "id": "c8ef42ce-b7e6-40b9-9f35-5f06c3337c5e",
   "metadata": {},
   "outputs": [
    {
     "data": {
      "application/vnd.jupyter.widget-view+json": {
       "model_id": "6363486f43d84a6dba752cb7d66a0671",
       "version_major": 2,
       "version_minor": 0
      },
      "text/plain": [
       "HBox(children=(Dropdown(description='Plot:', options=(('boxplot', <function boxplot at 0x14c74a700>), ('scatte…"
      ]
     },
     "metadata": {},
     "output_type": "display_data"
    },
    {
     "data": {
      "application/vnd.jupyter.widget-view+json": {
       "model_id": "ee27de0d3c334658ba57e1ed9e8403ee",
       "version_major": 2,
       "version_minor": 0
      },
      "text/plain": [
       "Output()"
      ]
     },
     "metadata": {},
     "output_type": "display_data"
    }
   ],
   "source": [
    "defaults = {'x':'gender', 'y':'math score', 'hue':'race/ethnicity', 'plot':'boxplot'}\n",
    "menu_plot(df, defaults, strings_as_cats=True, palette=\"tab10\")"
   ]
  },
  {
   "cell_type": "code",
   "execution_count": 12,
   "id": "0fa2d5ce-22d2-4856-a5cd-08865ed986a1",
   "metadata": {},
   "outputs": [
    {
     "data": {
      "application/vnd.jupyter.widget-view+json": {
       "model_id": "e756427b932a48b9a534d83e3f9450ec",
       "version_major": 2,
       "version_minor": 0
      },
      "text/plain": [
       "HBox(children=(Dropdown(description='Plot:', options=(('scatterplot', <function scatterplot at 0x14c2fbce0>), …"
      ]
     },
     "metadata": {},
     "output_type": "display_data"
    },
    {
     "data": {
      "application/vnd.jupyter.widget-view+json": {
       "model_id": "3669ef363771455aa8c76c31d6c7e6ee",
       "version_major": 2,
       "version_minor": 0
      },
      "text/plain": [
       "Output()"
      ]
     },
     "metadata": {},
     "output_type": "display_data"
    }
   ],
   "source": [
    "defaults = {'x':'reading score', 'y':'math score', 'hue':'parental education', 'plot':'scatterplot'}\n",
    "menu_plot(df, defaults)"
   ]
  },
  {
   "cell_type": "code",
   "execution_count": 13,
   "id": "45c3d593-1da8-414c-8fb0-8b79b5c24ad3",
   "metadata": {},
   "outputs": [
    {
     "data": {
      "application/vnd.jupyter.widget-view+json": {
       "model_id": "2952e8cd86984fc4b0474c5f72e455d8",
       "version_major": 2,
       "version_minor": 0
      },
      "text/plain": [
       "HBox(children=(Dropdown(description='Plot:', options=(('swarmplot', <function swarmplot at 0x14c74a980>), ('bo…"
      ]
     },
     "metadata": {},
     "output_type": "display_data"
    },
    {
     "data": {
      "application/vnd.jupyter.widget-view+json": {
       "model_id": "4ba7f2081c034a92bac28af8678d7574",
       "version_major": 2,
       "version_minor": 0
      },
      "text/plain": [
       "Output()"
      ]
     },
     "metadata": {},
     "output_type": "display_data"
    }
   ],
   "source": [
    "defaults = {'x':'gender', 'y':'math score', 'plot':'swarmplot'}\n",
    "menu_plot(df, defaults)"
   ]
  },
  {
   "cell_type": "code",
   "execution_count": 14,
   "id": "679a62eb-759d-469d-8999-121469074be9",
   "metadata": {},
   "outputs": [
    {
     "data": {
      "application/vnd.jupyter.widget-view+json": {
       "model_id": "1dedc148c24f4689bf8946c551900482",
       "version_major": 2,
       "version_minor": 0
      },
      "text/plain": [
       "HBox(children=(Dropdown(description='X variable:', index=1, options=('math score', 'reading score', 'writing s…"
      ]
     },
     "metadata": {},
     "output_type": "display_data"
    },
    {
     "data": {
      "application/vnd.jupyter.widget-view+json": {
       "model_id": "8c0fbdc7a46a4064ae7c2a5b3cf56c05",
       "version_major": 2,
       "version_minor": 0
      },
      "text/plain": [
       "Output()"
      ]
     },
     "metadata": {},
     "output_type": "display_data"
    }
   ],
   "source": [
    "defaults = {'x':'reading score', 'y':'writing score'}\n",
    "menu_plot(df, defaults, graphics=[sns.scatterplot])"
   ]
  },
  {
   "cell_type": "code",
   "execution_count": 15,
   "id": "47bdeb62-234a-45e4-b8f6-c8a6ce6a4c65",
   "metadata": {},
   "outputs": [
    {
     "data": {
      "application/vnd.jupyter.widget-view+json": {
       "model_id": "a39abe25a66b4b9cbf94678ad18af5dc",
       "version_major": 2,
       "version_minor": 0
      },
      "text/plain": [
       "HBox(children=(Dropdown(description='X variable:', index=1, options=('math score', 'reading score', 'writing s…"
      ]
     },
     "metadata": {},
     "output_type": "display_data"
    },
    {
     "data": {
      "application/vnd.jupyter.widget-view+json": {
       "model_id": "fb64c88c38464c1b84df91a90292d725",
       "version_major": 2,
       "version_minor": 0
      },
      "text/plain": [
       "Output()"
      ]
     },
     "metadata": {},
     "output_type": "display_data"
    }
   ],
   "source": [
    "defaults = {'x':'reading score', 'y':'math score', 'hue':'gender'}\n",
    "menu_plot(df, defaults, graphics=[sns.kdeplot])"
   ]
  },
  {
   "cell_type": "code",
   "execution_count": null,
   "id": "40ecd44f-c8bb-4757-940f-047ed6840f44",
   "metadata": {},
   "outputs": [],
   "source": []
  },
  {
   "cell_type": "code",
   "execution_count": null,
   "id": "474893c4-0946-4de0-9bbd-cb8810820e1c",
   "metadata": {},
   "outputs": [],
   "source": []
  },
  {
   "cell_type": "code",
   "execution_count": null,
   "id": "b504a081-7117-41a5-ab09-fc7421aef28b",
   "metadata": {},
   "outputs": [],
   "source": []
  }
 ],
 "metadata": {
  "kernelspec": {
   "display_name": "Python 3 (ipykernel)",
   "language": "python",
   "name": "python3"
  },
  "language_info": {
   "codemirror_mode": {
    "name": "ipython",
    "version": 3
   },
   "file_extension": ".py",
   "mimetype": "text/x-python",
   "name": "python",
   "nbconvert_exporter": "python",
   "pygments_lexer": "ipython3",
   "version": "3.12.7"
  }
 },
 "nbformat": 4,
 "nbformat_minor": 5
}
