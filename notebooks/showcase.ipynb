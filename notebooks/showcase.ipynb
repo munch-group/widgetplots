{
 "cells": [
  {
   "cell_type": "code",
   "execution_count": 223,
   "id": "0e4e860f-57ec-43b0-9286-dbe401617c9d",
   "metadata": {},
   "outputs": [],
   "source": [
    "import sys\n",
    "import pandas as pd\n",
    "import numpy as np\n",
    "import ipywidgets \n",
    "import seaborn as sns\n",
    "import matplotlib.pyplot as plt \n",
    "%config InlineBackend.figure_format = 'retina'"
   ]
  },
  {
   "cell_type": "markdown",
   "id": "a6c0e75f-3b0d-4357-aaad-9096ec674b97",
   "metadata": {},
   "source": [
    "## Dummy data"
   ]
  },
  {
   "cell_type": "code",
   "execution_count": 282,
   "id": "0c34d11f-24e9-4b6d-902f-f329c6dc22f8",
   "metadata": {},
   "outputs": [
    {
     "data": {
      "text/html": [
       "<div>\n",
       "<style scoped>\n",
       "    .dataframe tbody tr th:only-of-type {\n",
       "        vertical-align: middle;\n",
       "    }\n",
       "\n",
       "    .dataframe tbody tr th {\n",
       "        vertical-align: top;\n",
       "    }\n",
       "\n",
       "    .dataframe thead th {\n",
       "        text-align: right;\n",
       "    }\n",
       "</style>\n",
       "<table border=\"1\" class=\"dataframe\">\n",
       "  <thead>\n",
       "    <tr style=\"text-align: right;\">\n",
       "      <th></th>\n",
       "      <th>math score</th>\n",
       "      <th>reading score</th>\n",
       "      <th>writing score</th>\n",
       "      <th>gender</th>\n",
       "      <th>race/ethnicity</th>\n",
       "      <th>lunch</th>\n",
       "      <th>parental education</th>\n",
       "      <th>preparation course</th>\n",
       "    </tr>\n",
       "  </thead>\n",
       "  <tbody>\n",
       "    <tr>\n",
       "      <th>0</th>\n",
       "      <td>6.545300</td>\n",
       "      <td>10.116302</td>\n",
       "      <td>1.248035</td>\n",
       "      <td>male</td>\n",
       "      <td>group E</td>\n",
       "      <td>free</td>\n",
       "      <td>master</td>\n",
       "      <td>none</td>\n",
       "    </tr>\n",
       "    <tr>\n",
       "      <th>1</th>\n",
       "      <td>7.582902</td>\n",
       "      <td>11.270267</td>\n",
       "      <td>4.720812</td>\n",
       "      <td>female</td>\n",
       "      <td>group A</td>\n",
       "      <td>standard</td>\n",
       "      <td>highschool</td>\n",
       "      <td>completed</td>\n",
       "    </tr>\n",
       "    <tr>\n",
       "      <th>2</th>\n",
       "      <td>9.403985</td>\n",
       "      <td>12.898436</td>\n",
       "      <td>1.315492</td>\n",
       "      <td>male</td>\n",
       "      <td>group A</td>\n",
       "      <td>free</td>\n",
       "      <td>master</td>\n",
       "      <td>none</td>\n",
       "    </tr>\n",
       "    <tr>\n",
       "      <th>3</th>\n",
       "      <td>7.829126</td>\n",
       "      <td>11.197810</td>\n",
       "      <td>2.157508</td>\n",
       "      <td>female</td>\n",
       "      <td>group E</td>\n",
       "      <td>free</td>\n",
       "      <td>master</td>\n",
       "      <td>completed</td>\n",
       "    </tr>\n",
       "    <tr>\n",
       "      <th>4</th>\n",
       "      <td>2.022531</td>\n",
       "      <td>7.941776</td>\n",
       "      <td>-0.112730</td>\n",
       "      <td>female</td>\n",
       "      <td>group A</td>\n",
       "      <td>standard</td>\n",
       "      <td>highschool</td>\n",
       "      <td>none</td>\n",
       "    </tr>\n",
       "  </tbody>\n",
       "</table>\n",
       "</div>"
      ],
      "text/plain": [
       "   math score  reading score  writing score  gender race/ethnicity     lunch  \\\n",
       "0    6.545300      10.116302       1.248035    male        group E      free   \n",
       "1    7.582902      11.270267       4.720812  female        group A  standard   \n",
       "2    9.403985      12.898436       1.315492    male        group A      free   \n",
       "3    7.829126      11.197810       2.157508  female        group E      free   \n",
       "4    2.022531       7.941776      -0.112730  female        group A  standard   \n",
       "\n",
       "  parental education preparation course  \n",
       "0             master               none  \n",
       "1         highschool          completed  \n",
       "2             master               none  \n",
       "3             master          completed  \n",
       "4         highschool               none  "
      ]
     },
     "execution_count": 282,
     "metadata": {},
     "output_type": "execute_result"
    }
   ],
   "source": [
    "cov = np.array([[6, 3], [3, 3.5]])\n",
    "multinorm = np.random.multivariate_normal([5, 10], cov, size=100)\n",
    "df = pd.DataFrame({'math score': multinorm[:, 0],\n",
    "                       'reading score': multinorm[:, 1], \n",
    "                       'writing score': np.random.normal(2, 2, 100),\n",
    "                   'gender': np.random.choice(['male', 'female'], size=100),\n",
    "                   'race/ethnicity': np.random.choice(['group A', 'group B', 'group C', 'group D', 'group E'], size=100),\n",
    "                    'lunch': np.random.choice(['free', 'standard'], size=100),\n",
    "                    'parental education': np.random.choice(['highschool', 'bachelor', 'master'], size=100),\n",
    "                    'preparation course': np.random.choice(['completed', 'none'], size=100)\n",
    "                  })\n",
    "df.head()"
   ]
  },
  {
   "cell_type": "code",
   "execution_count": 275,
   "id": "6c71a529-1c8f-4aec-8125-44ae194b80a9",
   "metadata": {},
   "outputs": [
    {
     "data": {
      "application/vnd.jupyter.widget-view+json": {
       "model_id": "1655715544534ad6a4a7fc637975e1f0",
       "version_major": 2,
       "version_minor": 0
      },
      "text/plain": [
       "HBox(children=(Dropdown(description='X variable:', options=('gender', 'race/ethnicity', 'lunch', 'parental edu…"
      ]
     },
     "metadata": {},
     "output_type": "display_data"
    },
    {
     "data": {
      "application/vnd.jupyter.widget-view+json": {
       "model_id": "3aeb42481df44943a9c48209eb0895f5",
       "version_major": 2,
       "version_minor": 0
      },
      "text/plain": [
       "Output()"
      ]
     },
     "metadata": {},
     "output_type": "display_data"
    }
   ],
   "source": [
    "def scatter(x,y,hue):\n",
    "    plt.close('all')\n",
    "    fig = plt.figure(figsize=(8,4))\n",
    "    sns.scatterplot(data=df,x=x,y=y,hue=hue)\n",
    "    plt.title('Scatterplot of ' +x+' versus '+ y)\n",
    "    plt.show()\n",
    "    \n",
    "drop_down_x = ipywidgets.Dropdown(options=list(df.drop(['math score','reading score', 'writing score'],axis=1).columns),\n",
    "                                value=list(df.drop(['math score','reading score', 'writing score'],axis=1).columns)[0],\n",
    "                                description='X variable:',\n",
    "                                disabled=False)\n",
    "\n",
    "drop_down_y = ipywidgets.Dropdown(options=list(['math score','reading score', 'writing score']),\n",
    "                                value=list(['math score','reading score', 'writing score'])[0],\n",
    "                                description='Y variable:',\n",
    "                                disabled=False)\n",
    "\n",
    "drop_down_hue= ipywidgets.Dropdown(options=list(df.drop(['math score','reading score', 'writing score'],axis=1).columns),\n",
    "                                value=list(df.drop(['math score','reading score', 'writing score'],axis=1).columns)[0],\n",
    "                                description='Hue:',\n",
    "                                disabled=False)\n",
    "\n",
    "in3 = ipywidgets.HBox([drop_down_x,drop_down_y,drop_down_hue])\n",
    "out3 = ipywidgets.interactive_output(scatter,\n",
    "                                     {'x' : drop_down_x,\n",
    "                                     'y': drop_down_y,\n",
    "                                     'hue':drop_down_hue})\n",
    "display(in3, out3)"
   ]
  },
  {
   "cell_type": "code",
   "execution_count": 276,
   "id": "9097be18-b5e9-43a4-98e7-10ba8f36cd3c",
   "metadata": {},
   "outputs": [
    {
     "data": {
      "application/vnd.jupyter.widget-view+json": {
       "model_id": "0c7ef704419e488cb7e277df9fb56b26",
       "version_major": 2,
       "version_minor": 0
      },
      "text/plain": [
       "HBox(children=(Dropdown(description='X variable:', options=('gender', 'race/ethnicity', 'lunch', 'parental edu…"
      ]
     },
     "metadata": {},
     "output_type": "display_data"
    },
    {
     "data": {
      "application/vnd.jupyter.widget-view+json": {
       "model_id": "279e67617319426aae605d45bde96519",
       "version_major": 2,
       "version_minor": 0
      },
      "text/plain": [
       "Output()"
      ]
     },
     "metadata": {},
     "output_type": "display_data"
    }
   ],
   "source": [
    "def boxplot(selected_x, selected_y):\n",
    "    plt.close('all')\n",
    "    fig = plt.figure(figsize=(8,4))\n",
    "    sns.boxplot(x=df[selected_x],y=df[selected_y])\n",
    "    plt.title(f'Boxplot of {selected_y} for {selected_x}')\n",
    "    plt.show()\n",
    "    \n",
    "drop_down_x = ipywidgets.Dropdown(options=list(df.drop(['math score','reading score', 'writing score'],axis=1).columns),\n",
    "                                value=list(df.drop(['math score','reading score', 'writing score'],axis=1).columns)[0],\n",
    "                                description='X variable:',\n",
    "                                disabled=False)\n",
    "\n",
    "drop_down_y = ipywidgets.Dropdown(options=list(['math score','reading score', 'writing score']),\n",
    "                                value=list(['math score','reading score', 'writing score'])[0],\n",
    "                                description='Y variable:',\n",
    "                                disabled=False)\n",
    "\n",
    "in1 = ipywidgets.HBox([drop_down_x, drop_down_y])\n",
    "out1 = ipywidgets.interactive_output(boxplot,\n",
    "                                     {'selected_x' : drop_down_x, 'selected_y' : drop_down_y})\n",
    "display(in1, out1)"
   ]
  },
  {
   "cell_type": "markdown",
   "id": "a770d4f5-5d4a-4d4d-9d04-b5cafcccb753",
   "metadata": {},
   "source": [
    "## Generic plot with menus"
   ]
  },
  {
   "cell_type": "code",
   "execution_count": 308,
   "id": "b0eeae43-32dc-4785-b9fd-0e3e6eb1c63f",
   "metadata": {},
   "outputs": [],
   "source": [
    "graphics = [\n",
    "    sns.boxplot, \n",
    "    sns.scatterplot, \n",
    "    sns.violinplot,\n",
    "    sns.boxenplot, \n",
    "    sns.swarmplot,\n",
    "    sns.stripplot,\n",
    "    sns.kdeplot,\n",
    "    sns.barplot,\n",
    "]\n",
    "\n",
    "def interactive_plot(df, defaults, graphics=graphics, strings_as_cats=False, palette=\"colorblind\"):\n",
    "    def plot(selected_x, selected_y, selected_hue=None, selected_plot=graphics[0]):\n",
    "        plt.close('all')\n",
    "        fig, ax = plt.subplots(1, 1, figsize=(8,4))\n",
    "        sns.set_style('ticks')\n",
    "        kwargs = dict(x=df[selected_x], y=df[selected_y])\n",
    "        if selected_hue in df:\n",
    "            kwargs['hue'] = df[selected_hue]\n",
    "            kwargs['palette'] = palette\n",
    "        try:\n",
    "            selected_plot(**kwargs, ax=ax)\n",
    "        except TypeError as e:\n",
    "            print(f\"{str(e).split(',')[0]}. That does not compatible with {selected_plot.__name__}\", file=sys.stderr)\n",
    "            plt.close('all')            \n",
    "            return\n",
    "        plt.title(f'{selected_plot.__name__.capitalize()} of {selected_y} for {selected_x}')\n",
    "        handles, labels = ax.get_legend_handles_labels()\n",
    "        if labels:\n",
    "            ax.legend(loc='center left', bbox_to_anchor=(1, 0.5))\n",
    "        sns.despine()\n",
    "        plt.show()\n",
    "    \n",
    "    categorical_col_names = df.columns[(df.map(type) == str).all(0)].to_list()\n",
    "\n",
    "    dropdowns = {}\n",
    "    if 'plot' in defaults:\n",
    "        plot_options = [(g.__name__, g) for g in graphics]\n",
    "        names, funs = zip(*plot_options)\n",
    "        i = names.index(defaults['plot'])\n",
    "        options = plot_options[i:i+1] + plot_options[:i] + plot_options[i+1:] \n",
    "        drop_down_plot = ipywidgets.Dropdown(options=options, description='Plot:', disabled=False)\n",
    "        dropdowns['selected_plot'] = drop_down_plot\n",
    "    if 'x' in defaults:\n",
    "        x_options = df.columns.to_list()\n",
    "        drop_down_x = ipywidgets.Dropdown(options=x_options, value=defaults['x'], description='X variable:', disabled=False)\n",
    "        dropdowns['selected_x'] = drop_down_x\n",
    "    if 'y' in defaults:\n",
    "        if strings_as_cats:\n",
    "            y_options = df.drop(categorical_col_names,axis=1).columns\n",
    "        else:\n",
    "            y_options = df.columns.to_list()\n",
    "        drop_down_y = ipywidgets.Dropdown(options=y_options, value=defaults['y'], description='Y variable:', disabled=False)\n",
    "        dropdowns['selected_y'] = drop_down_y\n",
    "    if 'hue' in defaults:\n",
    "        if strings_as_cats:\n",
    "            hue_options = df.columns[(df.map(type) == str).all(0)]\n",
    "        else:\n",
    "            hue_options = df.columns.to_list()\n",
    "        drop_down_hue= ipywidgets.Dropdown(options=hue_options, value=defaults['hue'], description='Hue:', disabled=False)\n",
    "        dropdowns['selected_hue'] = drop_down_hue\n",
    "\n",
    "    display(ipywidgets.HBox(list(dropdowns.values())),\n",
    "            ipywidgets.interactive_output(plot, dropdowns))"
   ]
  },
  {
   "cell_type": "markdown",
   "id": "1d2eae56-5a73-4290-b41d-4f0bcc19e20e",
   "metadata": {},
   "source": [
    "## Examples"
   ]
  },
  {
   "cell_type": "code",
   "execution_count": 309,
   "id": "c8ef42ce-b7e6-40b9-9f35-5f06c3337c5e",
   "metadata": {},
   "outputs": [
    {
     "data": {
      "application/vnd.jupyter.widget-view+json": {
       "model_id": "53b2113f82fe4688a21dd819e8fb856a",
       "version_major": 2,
       "version_minor": 0
      },
      "text/plain": [
       "HBox(children=(Dropdown(description='Plot:', options=(('boxplot', <function boxplot at 0x14fcf6340>), ('scatte…"
      ]
     },
     "metadata": {},
     "output_type": "display_data"
    },
    {
     "data": {
      "application/vnd.jupyter.widget-view+json": {
       "model_id": "df553962bafe499586746278e815c8ec",
       "version_major": 2,
       "version_minor": 0
      },
      "text/plain": [
       "Output()"
      ]
     },
     "metadata": {},
     "output_type": "display_data"
    }
   ],
   "source": [
    "defaults = {'x':'gender', 'y':'math score', 'hue':'race/ethnicity', 'plot':'boxplot'}\n",
    "interactive_plot(df, defaults, strings_as_cats=True, palette=\"tab10\")"
   ]
  },
  {
   "cell_type": "code",
   "execution_count": 304,
   "id": "0fa2d5ce-22d2-4856-a5cd-08865ed986a1",
   "metadata": {},
   "outputs": [
    {
     "data": {
      "application/vnd.jupyter.widget-view+json": {
       "model_id": "1c3960c26f6849e1bbbbd51566e3aa10",
       "version_major": 2,
       "version_minor": 0
      },
      "text/plain": [
       "HBox(children=(Dropdown(description='Plot:', options=(('scatterplot', <function scatterplot at 0x14fa37920>), …"
      ]
     },
     "metadata": {},
     "output_type": "display_data"
    },
    {
     "data": {
      "application/vnd.jupyter.widget-view+json": {
       "model_id": "de67e03c2c194741a7e6e0ae039f42ca",
       "version_major": 2,
       "version_minor": 0
      },
      "text/plain": [
       "Output()"
      ]
     },
     "metadata": {},
     "output_type": "display_data"
    }
   ],
   "source": [
    "defaults = {'x':'reading score', 'y':'math score', 'hue':'parental education', 'plot':'scatterplot'}\n",
    "interactive_plot(df, defaults)"
   ]
  },
  {
   "cell_type": "code",
   "execution_count": 305,
   "id": "45c3d593-1da8-414c-8fb0-8b79b5c24ad3",
   "metadata": {},
   "outputs": [
    {
     "data": {
      "application/vnd.jupyter.widget-view+json": {
       "model_id": "70f13691bceb4c25bfe398a3ba76473a",
       "version_major": 2,
       "version_minor": 0
      },
      "text/plain": [
       "HBox(children=(Dropdown(description='Plot:', options=(('swarmplot', <function swarmplot at 0x14fcf65c0>), ('bo…"
      ]
     },
     "metadata": {},
     "output_type": "display_data"
    },
    {
     "data": {
      "application/vnd.jupyter.widget-view+json": {
       "model_id": "4ebf176956fc49b8a00c9f3e7bbc2a0f",
       "version_major": 2,
       "version_minor": 0
      },
      "text/plain": [
       "Output()"
      ]
     },
     "metadata": {},
     "output_type": "display_data"
    }
   ],
   "source": [
    "defaults = {'x':'gender', 'y':'math score', 'plot':'swarmplot'}\n",
    "interactive_plot(df, defaults)"
   ]
  },
  {
   "cell_type": "code",
   "execution_count": 306,
   "id": "679a62eb-759d-469d-8999-121469074be9",
   "metadata": {},
   "outputs": [
    {
     "data": {
      "application/vnd.jupyter.widget-view+json": {
       "model_id": "0dcb9355bef54d09aa9e84ff04d6d240",
       "version_major": 2,
       "version_minor": 0
      },
      "text/plain": [
       "HBox(children=(Dropdown(description='X variable:', index=1, options=('math score', 'reading score', 'writing s…"
      ]
     },
     "metadata": {},
     "output_type": "display_data"
    },
    {
     "data": {
      "application/vnd.jupyter.widget-view+json": {
       "model_id": "721f335f670f40cb8dfde71016ec1ec5",
       "version_major": 2,
       "version_minor": 0
      },
      "text/plain": [
       "Output()"
      ]
     },
     "metadata": {},
     "output_type": "display_data"
    }
   ],
   "source": [
    "defaults = {'x':'reading score', 'y':'writing score'}\n",
    "interactive_plot(df, defaults, graphics=[sns.scatterplot])"
   ]
  },
  {
   "cell_type": "code",
   "execution_count": 307,
   "id": "47bdeb62-234a-45e4-b8f6-c8a6ce6a4c65",
   "metadata": {},
   "outputs": [
    {
     "data": {
      "application/vnd.jupyter.widget-view+json": {
       "model_id": "4154ec09ee094b0099704cf75deb113b",
       "version_major": 2,
       "version_minor": 0
      },
      "text/plain": [
       "HBox(children=(Dropdown(description='X variable:', index=1, options=('math score', 'reading score', 'writing s…"
      ]
     },
     "metadata": {},
     "output_type": "display_data"
    },
    {
     "data": {
      "application/vnd.jupyter.widget-view+json": {
       "model_id": "63d3f1c93ab6403d98d92c6af87fe6a8",
       "version_major": 2,
       "version_minor": 0
      },
      "text/plain": [
       "Output()"
      ]
     },
     "metadata": {},
     "output_type": "display_data"
    }
   ],
   "source": [
    "defaults = {'x':'reading score', 'y':'math score', 'hue':'gender'}\n",
    "interactive_plot(df, defaults, graphics=[sns.kdeplot])"
   ]
  },
  {
   "cell_type": "code",
   "execution_count": null,
   "id": "40ecd44f-c8bb-4757-940f-047ed6840f44",
   "metadata": {},
   "outputs": [],
   "source": []
  },
  {
   "cell_type": "code",
   "execution_count": null,
   "id": "474893c4-0946-4de0-9bbd-cb8810820e1c",
   "metadata": {},
   "outputs": [],
   "source": []
  }
 ],
 "metadata": {
  "kernelspec": {
   "display_name": "Python 3 (ipykernel)",
   "language": "python",
   "name": "python3"
  },
  "language_info": {
   "codemirror_mode": {
    "name": "ipython",
    "version": 3
   },
   "file_extension": ".py",
   "mimetype": "text/x-python",
   "name": "python",
   "nbconvert_exporter": "python",
   "pygments_lexer": "ipython3",
   "version": "3.12.7"
  }
 },
 "nbformat": 4,
 "nbformat_minor": 5
}
